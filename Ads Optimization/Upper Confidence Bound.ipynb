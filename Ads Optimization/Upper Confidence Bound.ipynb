{
 "cells": [
  {
   "cell_type": "markdown",
   "metadata": {
    "id": "Z-jZGC0q0aiY"
   },
   "source": [
    "# Upper Confidence Bound"
   ]
  },
  {
   "cell_type": "markdown",
   "metadata": {
    "id": "jE4Rc_OO0eJM"
   },
   "source": [
    "## Importing libraries"
   ]
  },
  {
   "cell_type": "code",
   "execution_count": 1,
   "metadata": {
    "executionInfo": {
     "elapsed": 956,
     "status": "ok",
     "timestamp": 1613027254568,
     "user": {
      "displayName": "Atulya Kaushik",
      "photoUrl": "https://lh3.googleusercontent.com/a-/AOh14Gju2fH5JzS1entcLhrhTB3_vR9dFpv0-qJk8VKErvZNX5k4EeHB12aEAc6RjTsJh_2saoYhzEk3CvzeTTOBpV4QPnhpcROwxE-61Z4ra-BYOD7p3ZsqN1KvReUE8SNQ66vkIAJpwbBx7rqEZZ5QdWIF41xJsMv4qLDb2ozGa-zphPUQ91DlX2yY1y0Lm4ewmK6TqiuAz1aogiG0R06edZJ3jgvQX6Yi2d8l6hG54HWKfDvSXb4hVHMrw9us7nDJ7iVRaTY-LMi6y7FQvKL0PifcOnlgeVVVp7ftqKJsTkNC-xDpy_aLLUF7t3XoY6CilE8vslPsdp1c-iIjTCzeqWCuUm3pHdOBtKUZh3mL54yR7XknV4U4_qRkk4WxOcKCVIzEj4Hjin3jUlwjn0wT067l8XbB0_UgaWIiuwnZ65vM6Ys2SBfg_1c9KSf43Ebf91q0hj_-3quOccPFPxSYNm8aVkCLo9Z8Qr9PGSxuOVwEEvavHvsJH6pH9r89FsP6MlLP29VLyP5Hnjp3MqC3ahuBJqwUrkr-vObAIhfF66jmNEF8quRskIxCvlDn75ar8aCcB3kdD8GoGu8AuQuyA9NBKaZRfjGa7U5VL1Df93ASwOmfdZPZ8k86NcHtO7cqmnJ2D6zcgsiV2xHWsMU68ZWdgZuNjRK3wArpgrnqp3-pe8C0d9jVgU6hxVzYrjzRU7HESWUBYtKQH43J4YKfhxCypGjKq_LdF_suZwzxGkyN7Wtw3BpC-BUyr961LFP0Zw0NEA=s64",
      "userId": "16390917540151948122"
     },
     "user_tz": -330
    },
    "id": "G_69Xsqifi4g"
   },
   "outputs": [],
   "source": [
    "import numpy as np\n",
    "import matplotlib.pyplot as plt\n",
    "import pandas as pd"
   ]
  },
  {
   "cell_type": "markdown",
   "metadata": {
    "id": "A9-xGHd20gY1"
   },
   "source": [
    "## Importing dataset"
   ]
  },
  {
   "cell_type": "code",
   "execution_count": 2,
   "metadata": {
    "executionInfo": {
     "elapsed": 977,
     "status": "ok",
     "timestamp": 1613027264214,
     "user": {
      "displayName": "Atulya Kaushik",
      "photoUrl": "https://lh3.googleusercontent.com/a-/AOh14Gju2fH5JzS1entcLhrhTB3_vR9dFpv0-qJk8VKErvZNX5k4EeHB12aEAc6RjTsJh_2saoYhzEk3CvzeTTOBpV4QPnhpcROwxE-61Z4ra-BYOD7p3ZsqN1KvReUE8SNQ66vkIAJpwbBx7rqEZZ5QdWIF41xJsMv4qLDb2ozGa-zphPUQ91DlX2yY1y0Lm4ewmK6TqiuAz1aogiG0R06edZJ3jgvQX6Yi2d8l6hG54HWKfDvSXb4hVHMrw9us7nDJ7iVRaTY-LMi6y7FQvKL0PifcOnlgeVVVp7ftqKJsTkNC-xDpy_aLLUF7t3XoY6CilE8vslPsdp1c-iIjTCzeqWCuUm3pHdOBtKUZh3mL54yR7XknV4U4_qRkk4WxOcKCVIzEj4Hjin3jUlwjn0wT067l8XbB0_UgaWIiuwnZ65vM6Ys2SBfg_1c9KSf43Ebf91q0hj_-3quOccPFPxSYNm8aVkCLo9Z8Qr9PGSxuOVwEEvavHvsJH6pH9r89FsP6MlLP29VLyP5Hnjp3MqC3ahuBJqwUrkr-vObAIhfF66jmNEF8quRskIxCvlDn75ar8aCcB3kdD8GoGu8AuQuyA9NBKaZRfjGa7U5VL1Df93ASwOmfdZPZ8k86NcHtO7cqmnJ2D6zcgsiV2xHWsMU68ZWdgZuNjRK3wArpgrnqp3-pe8C0d9jVgU6hxVzYrjzRU7HESWUBYtKQH43J4YKfhxCypGjKq_LdF_suZwzxGkyN7Wtw3BpC-BUyr961LFP0Zw0NEA=s64",
      "userId": "16390917540151948122"
     },
     "user_tz": -330
    },
    "id": "H-Jhpd0wfnjp"
   },
   "outputs": [],
   "source": [
    "dataset = pd.read_csv('New Facebook Ads Optimization.csv')"
   ]
  },
  {
   "cell_type": "markdown",
   "metadata": {
    "id": "8REFJFGC0lRN"
   },
   "source": [
    "## Implementation"
   ]
  },
  {
   "cell_type": "code",
   "execution_count": 3,
   "metadata": {
    "executionInfo": {
     "elapsed": 943,
     "status": "ok",
     "timestamp": 1613027595832,
     "user": {
      "displayName": "Atulya Kaushik",
      "photoUrl": "https://lh3.googleusercontent.com/a-/AOh14Gju2fH5JzS1entcLhrhTB3_vR9dFpv0-qJk8VKErvZNX5k4EeHB12aEAc6RjTsJh_2saoYhzEk3CvzeTTOBpV4QPnhpcROwxE-61Z4ra-BYOD7p3ZsqN1KvReUE8SNQ66vkIAJpwbBx7rqEZZ5QdWIF41xJsMv4qLDb2ozGa-zphPUQ91DlX2yY1y0Lm4ewmK6TqiuAz1aogiG0R06edZJ3jgvQX6Yi2d8l6hG54HWKfDvSXb4hVHMrw9us7nDJ7iVRaTY-LMi6y7FQvKL0PifcOnlgeVVVp7ftqKJsTkNC-xDpy_aLLUF7t3XoY6CilE8vslPsdp1c-iIjTCzeqWCuUm3pHdOBtKUZh3mL54yR7XknV4U4_qRkk4WxOcKCVIzEj4Hjin3jUlwjn0wT067l8XbB0_UgaWIiuwnZ65vM6Ys2SBfg_1c9KSf43Ebf91q0hj_-3quOccPFPxSYNm8aVkCLo9Z8Qr9PGSxuOVwEEvavHvsJH6pH9r89FsP6MlLP29VLyP5Hnjp3MqC3ahuBJqwUrkr-vObAIhfF66jmNEF8quRskIxCvlDn75ar8aCcB3kdD8GoGu8AuQuyA9NBKaZRfjGa7U5VL1Df93ASwOmfdZPZ8k86NcHtO7cqmnJ2D6zcgsiV2xHWsMU68ZWdgZuNjRK3wArpgrnqp3-pe8C0d9jVgU6hxVzYrjzRU7HESWUBYtKQH43J4YKfhxCypGjKq_LdF_suZwzxGkyN7Wtw3BpC-BUyr961LFP0Zw0NEA=s64",
      "userId": "16390917540151948122"
     },
     "user_tz": -330
    },
    "id": "lyKsJWNZfq_-"
   },
   "outputs": [],
   "source": [
    "import math\n",
    "T = 200\n",
    "num_ads = 10\n",
    "ads_selected = []\n",
    "numbers_of_selections = [0] * num_ads\n",
    "sums_of_rewards = [0] * num_ads\n",
    "total_reward = 0\n",
    "\n",
    "for n in range(0, T):\n",
    "  ad = 0\n",
    "  max_upper_bound = 0\n",
    "  for i in range(0, num_ads):\n",
    "    if (numbers_of_selections[i] > 0):\n",
    "      average_reward = sums_of_rewards[i] / numbers_of_selections[i]\n",
    "      delta_i = math.sqrt(3/2 * math.log(n + 1) / numbers_of_selections[i])\n",
    "      upper_bound = average_reward + delta_i\n",
    "    else:\n",
    "      upper_bound = 1e400\n",
    "    if (upper_bound > max_upper_bound):\n",
    "      max_upper_bound = upper_bound\n",
    "      ad = i\n",
    "  ads_selected.append(ad)\n",
    "  numbers_of_selections[ad] = numbers_of_selections[ad] + 1\n",
    "  reward = dataset.values[n, ad]\n",
    "  sums_of_rewards[ad] = sums_of_rewards[ad] + reward\n",
    "  total_reward = total_reward + reward"
   ]
  },
  {
   "cell_type": "markdown",
   "metadata": {
    "id": "2QUFYaoH00H6"
   },
   "source": [
    "## Histogram Visualization"
   ]
  },
  {
   "cell_type": "code",
   "execution_count": 4,
   "metadata": {
    "colab": {
     "base_uri": "https://localhost:8080/",
     "height": 295
    },
    "executionInfo": {
     "elapsed": 1243,
     "status": "ok",
     "timestamp": 1613027599170,
     "user": {
      "displayName": "Atulya Kaushik",
      "photoUrl": "https://lh3.googleusercontent.com/a-/AOh14Gju2fH5JzS1entcLhrhTB3_vR9dFpv0-qJk8VKErvZNX5k4EeHB12aEAc6RjTsJh_2saoYhzEk3CvzeTTOBpV4QPnhpcROwxE-61Z4ra-BYOD7p3ZsqN1KvReUE8SNQ66vkIAJpwbBx7rqEZZ5QdWIF41xJsMv4qLDb2ozGa-zphPUQ91DlX2yY1y0Lm4ewmK6TqiuAz1aogiG0R06edZJ3jgvQX6Yi2d8l6hG54HWKfDvSXb4hVHMrw9us7nDJ7iVRaTY-LMi6y7FQvKL0PifcOnlgeVVVp7ftqKJsTkNC-xDpy_aLLUF7t3XoY6CilE8vslPsdp1c-iIjTCzeqWCuUm3pHdOBtKUZh3mL54yR7XknV4U4_qRkk4WxOcKCVIzEj4Hjin3jUlwjn0wT067l8XbB0_UgaWIiuwnZ65vM6Ys2SBfg_1c9KSf43Ebf91q0hj_-3quOccPFPxSYNm8aVkCLo9Z8Qr9PGSxuOVwEEvavHvsJH6pH9r89FsP6MlLP29VLyP5Hnjp3MqC3ahuBJqwUrkr-vObAIhfF66jmNEF8quRskIxCvlDn75ar8aCcB3kdD8GoGu8AuQuyA9NBKaZRfjGa7U5VL1Df93ASwOmfdZPZ8k86NcHtO7cqmnJ2D6zcgsiV2xHWsMU68ZWdgZuNjRK3wArpgrnqp3-pe8C0d9jVgU6hxVzYrjzRU7HESWUBYtKQH43J4YKfhxCypGjKq_LdF_suZwzxGkyN7Wtw3BpC-BUyr961LFP0Zw0NEA=s64",
      "userId": "16390917540151948122"
     },
     "user_tz": -330
    },
    "id": "Pe1MPXMMfsQ_",
    "outputId": "19ccc65b-5fc8-49a9-995f-42a8f1fa609f"
   },
   "outputs": [
    {
     "data": {
      "image/png": "[encoded data removed]",
      "text/plain": [
       "<Figure size 432x288 with 1 Axes>"
      ]
     },
     "metadata": {
      "needs_background": "light"
     },
     "output_type": "display_data"
    }
   ],
   "source": [
    "plt.hist(ads_selected)\n",
    "plt.title('Histogram of ads selections')\n",
    "plt.xlabel('Ads')\n",
    "plt.ylabel('Number of times each ad was selected')\n",
    "plt.show()"
   ]
  }
 ],
 "metadata": {
  "colab": {
   "authorship_tag": "ABX9TyPWs3yu+rDrkw0Zr+6N6F9H",
   "name": "Upper Confidence Bound Working Copy.ipynb",
   "provenance": [],
   "toc_visible": true
  },
  "kernelspec": {
   "display_name": "Python 3 (ipykernel)",
   "language": "python",
   "name": "python3"
  },
  "language_info": {
   "codemirror_mode": {
    "name": "ipython",
    "version": 3
   },
   "file_extension": ".py",
   "mimetype": "text/x-python",
   "name": "python",
   "nbconvert_exporter": "python",
   "pygments_lexer": "ipython3",
   "version": "3.9.12"
  }
 },
 "nbformat": 4,
 "nbformat_minor": 1
}
