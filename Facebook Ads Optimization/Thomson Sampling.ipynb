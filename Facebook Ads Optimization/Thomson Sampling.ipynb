{
 "cells": [
  {
   "cell_type": "markdown",
   "metadata": {
    "id": "Z-jZGC0q0aiY"
   },
   "source": [
    "# Thomson Sampling"
   ]
  },
  {
   "cell_type": "markdown",
   "metadata": {
    "id": "jE4Rc_OO0eJM"
   },
   "source": [
    "## Importing libraries"
   ]
  },
  {
   "cell_type": "code",
   "execution_count": 1,
   "metadata": {
    "executionInfo": {
     "elapsed": 981,
     "status": "ok",
     "timestamp": 1613026425543,
     "user": {
      "displayName": "Atulya Kaushik",
      "photoUrl": "https://lh3.googleusercontent.com/a-/AOh14GjbG6Nxm6utwcGScrx4j87e_J2oHoX_9Rf9mifA6fLcSV0ttNH53HcucYGjUKxBXqVTol-fNVn3o6fe9-5LqHFe5XOTG7DusgTEKzNcWRZbFk1W_DY2yN6TuZUaXtOEO_mp6-mX11TiBDH8MTMqXY9LS0XpR63pTwhcRVHmJV93yZNele6Bnzlk_U3g2cLJ0t6lYoQ9vXZpyntLBOdX1mFzTPkREJPFSNn2aJf1m0Q09GzadGulbD3IF6R8Gq3PA7BKlaV0LPsvfCHQ8eBVjynh8kGtaMFKwDRtaeb8VnT8eCtxu54AM3U_oSd-PZQNAq25byjE44UzHq4h5pUGx4bj9rqLPZGwzCJsMO7j1tWGwYrMVP0OT1G0Ku3NPX1vL8ohRwx4s3PukzZSIdmOOkg6uIFDxE1Mrp4lXnUUmwlpynSlzfATZXUhEl63sXR3EbUfypP4o4UO7AJRP3UL0IQpqgxpzegG9lyGRelDfOO_hUIYgUTAbQaMvv9xC49XEvohWrKXkADdrKFBORT1DcsfQKA9hjDku7oRw6MhnuiriTF6QIgdp3_WL4SrdcqSPfhwhz-IGHjViNdFs3bvVNGcAh2FYlHDfnCa4-ExUIp-LcsyD7wJSzSxCm4XteFBTlLPTXetKPEPjip587SikLMPHLy8dVnDBjWMsDD545sqr4gs1rtZAcNHnitfhwrH7zzSO440Rv8ZioUFT-xwlA3h3FkFWOJnmnyyGq5pvxFsTBVM_wy3FyJWGiwr8Gz7B4wNFA=s64",
      "userId": "16390917540151948122"
     },
     "user_tz": -330
    },
    "id": "PTBjYh8iyvVK"
   },
   "outputs": [],
   "source": [
    "import numpy as np\n",
    "import matplotlib.pyplot as plt\n",
    "import pandas as pd"
   ]
  },
  {
   "cell_type": "markdown",
   "metadata": {
    "id": "A9-xGHd20gY1"
   },
   "source": [
    "## Importing dataset"
   ]
  },
  {
   "cell_type": "code",
   "execution_count": 2,
   "metadata": {
    "executionInfo": {
     "elapsed": 976,
     "status": "ok",
     "timestamp": 1613026442841,
     "user": {
      "displayName": "Atulya Kaushik",
      "photoUrl": "https://lh3.googleusercontent.com/a-/AOh14GjbG6Nxm6utwcGScrx4j87e_J2oHoX_9Rf9mifA6fLcSV0ttNH53HcucYGjUKxBXqVTol-fNVn3o6fe9-5LqHFe5XOTG7DusgTEKzNcWRZbFk1W_DY2yN6TuZUaXtOEO_mp6-mX11TiBDH8MTMqXY9LS0XpR63pTwhcRVHmJV93yZNele6Bnzlk_U3g2cLJ0t6lYoQ9vXZpyntLBOdX1mFzTPkREJPFSNn2aJf1m0Q09GzadGulbD3IF6R8Gq3PA7BKlaV0LPsvfCHQ8eBVjynh8kGtaMFKwDRtaeb8VnT8eCtxu54AM3U_oSd-PZQNAq25byjE44UzHq4h5pUGx4bj9rqLPZGwzCJsMO7j1tWGwYrMVP0OT1G0Ku3NPX1vL8ohRwx4s3PukzZSIdmOOkg6uIFDxE1Mrp4lXnUUmwlpynSlzfATZXUhEl63sXR3EbUfypP4o4UO7AJRP3UL0IQpqgxpzegG9lyGRelDfOO_hUIYgUTAbQaMvv9xC49XEvohWrKXkADdrKFBORT1DcsfQKA9hjDku7oRw6MhnuiriTF6QIgdp3_WL4SrdcqSPfhwhz-IGHjViNdFs3bvVNGcAh2FYlHDfnCa4-ExUIp-LcsyD7wJSzSxCm4XteFBTlLPTXetKPEPjip587SikLMPHLy8dVnDBjWMsDD545sqr4gs1rtZAcNHnitfhwrH7zzSO440Rv8ZioUFT-xwlA3h3FkFWOJnmnyyGq5pvxFsTBVM_wy3FyJWGiwr8Gz7B4wNFA=s64",
      "userId": "16390917540151948122"
     },
     "user_tz": -330
    },
    "id": "IeX0-BBoyxsw"
   },
   "outputs": [],
   "source": [
    "dataset = pd.read_csv('Thomson New Facebook Ads Optimization.csv')"
   ]
  },
  {
   "cell_type": "markdown",
   "metadata": {
    "id": "8REFJFGC0lRN"
   },
   "source": [
    "## Implementation"
   ]
  },
  {
   "cell_type": "code",
   "execution_count": 3,
   "metadata": {
    "executionInfo": {
     "elapsed": 1749,
     "status": "ok",
     "timestamp": 1613026448163,
     "user": {
      "displayName": "Atulya Kaushik",
      "photoUrl": "https://lh3.googleusercontent.com/a-/AOh14GjbG6Nxm6utwcGScrx4j87e_J2oHoX_9Rf9mifA6fLcSV0ttNH53HcucYGjUKxBXqVTol-fNVn3o6fe9-5LqHFe5XOTG7DusgTEKzNcWRZbFk1W_DY2yN6TuZUaXtOEO_mp6-mX11TiBDH8MTMqXY9LS0XpR63pTwhcRVHmJV93yZNele6Bnzlk_U3g2cLJ0t6lYoQ9vXZpyntLBOdX1mFzTPkREJPFSNn2aJf1m0Q09GzadGulbD3IF6R8Gq3PA7BKlaV0LPsvfCHQ8eBVjynh8kGtaMFKwDRtaeb8VnT8eCtxu54AM3U_oSd-PZQNAq25byjE44UzHq4h5pUGx4bj9rqLPZGwzCJsMO7j1tWGwYrMVP0OT1G0Ku3NPX1vL8ohRwx4s3PukzZSIdmOOkg6uIFDxE1Mrp4lXnUUmwlpynSlzfATZXUhEl63sXR3EbUfypP4o4UO7AJRP3UL0IQpqgxpzegG9lyGRelDfOO_hUIYgUTAbQaMvv9xC49XEvohWrKXkADdrKFBORT1DcsfQKA9hjDku7oRw6MhnuiriTF6QIgdp3_WL4SrdcqSPfhwhz-IGHjViNdFs3bvVNGcAh2FYlHDfnCa4-ExUIp-LcsyD7wJSzSxCm4XteFBTlLPTXetKPEPjip587SikLMPHLy8dVnDBjWMsDD545sqr4gs1rtZAcNHnitfhwrH7zzSO440Rv8ZioUFT-xwlA3h3FkFWOJnmnyyGq5pvxFsTBVM_wy3FyJWGiwr8Gz7B4wNFA=s64",
      "userId": "16390917540151948122"
     },
     "user_tz": -330
    },
    "id": "Cs6amFsNy4Ri"
   },
   "outputs": [],
   "source": [
    "import random\n",
    "N = 15000\n",
    "num_ads = 10\n",
    "ads_selected = []\n",
    "num_of_rewards_1 = [0] * num_ads\n",
    "num_of_rewards_0 = [0] * num_ads\n",
    "total_reward = 0\n",
    "for n in range(0, N):\n",
    "  ad = 0\n",
    "  max_random = 0\n",
    "  for i in range(0, num_ads):\n",
    "    random_beta = random.betavariate(num_of_rewards_1[i] + 1, num_of_rewards_0[i] + 1)\n",
    "    if (random_beta > max_random):\n",
    "      max_random = random_beta\n",
    "      ad = i\n",
    "  ads_selected.append(ad)\n",
    "  reward = dataset.values[n, ad]\n",
    "  if reward == 1:\n",
    "    num_of_rewards_1[ad] = num_of_rewards_1[ad] + 1\n",
    "  else:\n",
    "    num_of_rewards_0[ad] = num_of_rewards_0[ad] + 1\n",
    "  total_reward = total_reward + reward"
   ]
  },
  {
   "cell_type": "markdown",
   "metadata": {
    "id": "2QUFYaoH00H6"
   },
   "source": [
    "## Histogram Visualization"
   ]
  },
  {
   "cell_type": "code",
   "execution_count": 4,
   "metadata": {
    "colab": {
     "base_uri": "https://localhost:8080/",
     "height": 295
    },
    "executionInfo": {
     "elapsed": 1090,
     "status": "ok",
     "timestamp": 1613026450721,
     "user": {
      "displayName": "Atulya Kaushik",
      "photoUrl": "https://lh3.googleusercontent.com/a-/AOh14GjbG6Nxm6utwcGScrx4j87e_J2oHoX_9Rf9mifA6fLcSV0ttNH53HcucYGjUKxBXqVTol-fNVn3o6fe9-5LqHFe5XOTG7DusgTEKzNcWRZbFk1W_DY2yN6TuZUaXtOEO_mp6-mX11TiBDH8MTMqXY9LS0XpR63pTwhcRVHmJV93yZNele6Bnzlk_U3g2cLJ0t6lYoQ9vXZpyntLBOdX1mFzTPkREJPFSNn2aJf1m0Q09GzadGulbD3IF6R8Gq3PA7BKlaV0LPsvfCHQ8eBVjynh8kGtaMFKwDRtaeb8VnT8eCtxu54AM3U_oSd-PZQNAq25byjE44UzHq4h5pUGx4bj9rqLPZGwzCJsMO7j1tWGwYrMVP0OT1G0Ku3NPX1vL8ohRwx4s3PukzZSIdmOOkg6uIFDxE1Mrp4lXnUUmwlpynSlzfATZXUhEl63sXR3EbUfypP4o4UO7AJRP3UL0IQpqgxpzegG9lyGRelDfOO_hUIYgUTAbQaMvv9xC49XEvohWrKXkADdrKFBORT1DcsfQKA9hjDku7oRw6MhnuiriTF6QIgdp3_WL4SrdcqSPfhwhz-IGHjViNdFs3bvVNGcAh2FYlHDfnCa4-ExUIp-LcsyD7wJSzSxCm4XteFBTlLPTXetKPEPjip587SikLMPHLy8dVnDBjWMsDD545sqr4gs1rtZAcNHnitfhwrH7zzSO440Rv8ZioUFT-xwlA3h3FkFWOJnmnyyGq5pvxFsTBVM_wy3FyJWGiwr8Gz7B4wNFA=s64",
      "userId": "16390917540151948122"
     },
     "user_tz": -330
    },
    "id": "iYLjGlayy4sF",
    "outputId": "e94752d3-8686-4261-85f1-40926451b791"
   },
   "outputs": [
    {
     "data": {
      "image/png": "[encoded data removed]",
      "text/plain": [
       "<Figure size 432x288 with 1 Axes>"
      ]
     },
     "metadata": {
      "needs_background": "light"
     },
     "output_type": "display_data"
    }
   ],
   "source": [
    "plt.hist(ads_selected)\n",
    "plt.title('Histogram of ads selections')\n",
    "plt.xlabel('Ads')\n",
    "plt.ylabel('Number of times each ad was selected')\n",
    "plt.show()"
   ]
  }
 ],
 "metadata": {
  "colab": {
   "authorship_tag": "ABX9TyNeoVH4xzGOHgjIbH4wJUdK",
   "name": "Thomson Sampling Working Copy.ipynb",
   "provenance": [],
   "toc_visible": true
  },
  "kernelspec": {
   "display_name": "Python 3 (ipykernel)",
   "language": "python",
   "name": "python3"
  },
  "language_info": {
   "codemirror_mode": {
    "name": "ipython",
    "version": 3
   },
   "file_extension": ".py",
   "mimetype": "text/x-python",
   "name": "python",
   "nbconvert_exporter": "python",
   "pygments_lexer": "ipython3",
   "version": "3.9.12"
  }
 },
 "nbformat": 4,
 "nbformat_minor": 1
}
